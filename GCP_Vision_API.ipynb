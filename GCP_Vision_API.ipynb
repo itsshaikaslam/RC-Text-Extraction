{
  "nbformat": 4,
  "nbformat_minor": 0,
  "metadata": {
    "colab": {
      "name": "GCP Vision API.ipynb",
      "provenance": [],
      "collapsed_sections": [],
      "toc_visible": true
    },
    "kernelspec": {
      "name": "python3",
      "display_name": "Python 3"
    }
  },
  "cells": [
    {
      "cell_type": "code",
      "metadata": {
        "id": "ZIGEY7jhNc7v",
        "colab_type": "code",
        "colab": {}
      },
      "source": [
        "# Importing libraries\n",
        "import random\n",
        "import re\n",
        "import io\n",
        "import base64\n",
        "import json\n",
        "import os\n",
        "from glob import glob\n",
        "from google.cloud import vision\n",
        "from tqdm import tqdm_notebook as tqdm"
      ],
      "execution_count": 0,
      "outputs": []
    },
    {
      "cell_type": "code",
      "metadata": {
        "id": "oke_csgaOqg2",
        "colab_type": "code",
        "colab": {}
      },
      "source": [
        "os.environ[\"GOOGLE_APPLICATION_CREDENTIALS\"]=\"/path-to-file\"\n",
        "client = vision.ImageAnnotatorClient()"
      ],
      "execution_count": 0,
      "outputs": []
    },
    {
      "cell_type": "code",
      "metadata": {
        "id": "BB6ajtcqcVIi",
        "colab_type": "code",
        "colab": {}
      },
      "source": [
        "# Making a new dir to store text files\n",
        "! mkdir extracted-data/"
      ],
      "execution_count": 0,
      "outputs": []
    },
    {
      "cell_type": "code",
      "metadata": {
        "id": "mQo9Gs-z5Z4l",
        "colab_type": "code",
        "colab": {}
      },
      "source": [
        "# Gettign text data from Cloud Vision API and storing it in txt files\n",
        "FOLDER_PATH = r\"data\"\n",
        "files = glob(FOLDER_PATH+\"/*\")\n",
        "for file in files:\n",
        "  filename = file.split(\"/\")[-1].split(\".\")[0]\n",
        "  with io.open(file, 'rb') as image_file:\n",
        "      content = image_file.read()\n",
        "      image = vision.types.Image(content=content)\n",
        "      text_response = client.text_detection(image=image)\n",
        "      texts = [text.description for text in text_response.text_annotations]\n",
        "      try:\n",
        "        with open(\"extracted-data/\"+filename+\".txt\", \"w\") as file:\n",
        "            file.write(texts[0])\n",
        "      except Exception as e:\n",
        "        print(e)\n",
        "        print(texts)"
      ],
      "execution_count": 0,
      "outputs": []
    },
    {
      "cell_type": "code",
      "metadata": {
        "id": "5d7qAtO2RJQD",
        "colab_type": "code",
        "outputId": "cf305ff5-fd98-4318-a208-0c402d6c6f1c",
        "colab": {
          "base_uri": "https://localhost:8080/",
          "height": 816
        }
      },
      "source": [
        "# Zipping the folder\n",
        "! zip -r extracted_data_gcp.zip extracted-data/ "
      ],
      "execution_count": 0,
      "outputs": [
        {
          "output_type": "stream",
          "text": [
            "  adding: extracted-data/ (stored 0%)\n",
            "  adding: extracted-data/txt_mudit_b11_11597.txt (deflated 34%)\n",
            "  adding: extracted-data/txt_mudit_b11_1339.txt (deflated 30%)\n",
            "  adding: extracted-data/txt_mudit_b11_1535.txt (deflated 28%)\n",
            "  adding: extracted-data/txt_mudit_b11_1328.txt (deflated 28%)\n",
            "  adding: extracted-data/txt_mudit_b11_1534.txt (deflated 30%)\n",
            "  adding: extracted-data/txt_mudit_b8_1_571.txt (deflated 28%)\n",
            "  adding: extracted-data/txt_mudit_b11_961.txt (deflated 30%)\n",
            "  adding: extracted-data/txt_mudit_b8_1_855.txt (deflated 33%)\n",
            "  adding: extracted-data/txt_mudit_b11_746.txt (deflated 23%)\n",
            "  adding: extracted-data/txt_mudit_b8_1_742.txt (deflated 29%)\n",
            "  adding: extracted-data/txt_mudit_b8_1_555.txt (deflated 24%)\n",
            "  adding: extracted-data/txt_mudit_b11_1354.txt (deflated 29%)\n",
            "  adding: extracted-data/txt_mudit_b8_1_854.txt (deflated 46%)\n",
            "  adding: extracted-data/txt_mudit_b11_1369.txt (deflated 30%)\n",
            "  adding: extracted-data/txt_mudit_b8_1_545.txt (deflated 21%)\n",
            "  adding: extracted-data/txt_mudit_b8_1_808.txt (deflated 24%)\n",
            "  adding: extracted-data/txt_mudit_b8_1_740.txt (deflated 28%)\n",
            "  adding: extracted-data/txt_mudit_b8_1_546.txt (deflated 23%)\n",
            "  adding: extracted-data/txt_mudit_b8_1_513.txt (deflated 29%)\n",
            "  adding: extracted-data/txt_mudit_b11_1524.txt (deflated 27%)\n",
            "  adding: extracted-data/txt_mudit_b11_1332.txt (deflated 28%)\n",
            "  adding: extracted-data/txt_mudit_b11_1347.txt (deflated 29%)\n",
            "  adding: extracted-data/txt_mudit_b11_1539.txt (deflated 29%)\n",
            "  adding: extracted-data/txt_mudit_b8_1_807.txt (deflated 23%)\n",
            "  adding: extracted-data/txt_mudit_b11_1355.txt (deflated 29%)\n",
            "  adding: extracted-data/txt_mudit_b11_439.txt (deflated 27%)\n",
            "  adding: extracted-data/txt_mudit_b11_1337.txt (deflated 28%)\n",
            "  adding: extracted-data/txt_mudit_b11_1363.txt (deflated 29%)\n",
            "  adding: extracted-data/txt_mudit_b11_1330.txt (deflated 26%)\n",
            "  adding: extracted-data/txt_mudit_b8_1_573.txt (deflated 28%)\n",
            "  adding: extracted-data/txt_mudit_b8_1_574.txt (deflated 27%)\n",
            "  adding: extracted-data/txt_mudit_b11_1529.txt (deflated 28%)\n",
            "  adding: extracted-data/txt_mudit_b11_480.txt (deflated 29%)\n",
            "  adding: extracted-data/txt_mudit_b11_1334.txt (deflated 28%)\n",
            "  adding: extracted-data/txt_mudit_b8_1_806.txt (deflated 19%)\n",
            "  adding: extracted-data/txt_mudit_b11_11599.txt (deflated 27%)\n",
            "  adding: extracted-data/txt_mudit_b11_1536.txt (deflated 28%)\n",
            "  adding: extracted-data/txt_mudit_b11_1361.txt (deflated 29%)\n",
            "  adding: extracted-data/txt_mudit_b8_1_741.txt (deflated 27%)\n",
            "  adding: extracted-data/txt_mudit_b11_1365.txt (deflated 29%)\n",
            "  adding: extracted-data/txt_mudit_b11_1362.txt (deflated 28%)\n",
            "  adding: extracted-data/txt_mudit_b11_12.txt (deflated 32%)\n",
            "  adding: extracted-data/txt_mudit_b11_1364.txt (deflated 28%)\n",
            "  adding: extracted-data/txt_mudit_b8_2_213.txt (deflated 26%)\n",
            "  adding: extracted-data/txt_mudit_b8_1_554.txt (deflated 21%)\n",
            "  adding: extracted-data/txt_mudit_b11_1343.txt (deflated 28%)\n"
          ],
          "name": "stdout"
        }
      ]
    }
  ]
}